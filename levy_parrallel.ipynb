{
  "nbformat": 4,
  "nbformat_minor": 0,
  "metadata": {
    "colab": {
      "provenance": [],
      "gpuType": "T4"
    },
    "kernelspec": {
      "name": "python3",
      "display_name": "Python 3"
    },
    "language_info": {
      "name": "python"
    },
    "accelerator": "GPU"
  },
  "cells": [
    {
      "cell_type": "code",
      "source": [
        "!pip install cupy-cuda12x"
      ],
      "metadata": {
        "colab": {
          "base_uri": "https://localhost:8080/"
        },
        "id": "B_TJc1Vi_6eU",
        "outputId": "13d8a4ea-c5b1-4d3b-805b-5496f5f390a8"
      },
      "execution_count": null,
      "outputs": [
        {
          "output_type": "stream",
          "name": "stdout",
          "text": [
            "Requirement already satisfied: cupy-cuda12x in /usr/local/lib/python3.11/dist-packages (13.3.0)\n",
            "Requirement already satisfied: numpy<2.3,>=1.22 in /usr/local/lib/python3.11/dist-packages (from cupy-cuda12x) (2.0.2)\n",
            "Requirement already satisfied: fastrlock>=0.5 in /usr/local/lib/python3.11/dist-packages (from cupy-cuda12x) (0.8.3)\n"
          ]
        }
      ]
    },
    {
      "cell_type": "code",
      "source": [
        "!nvidia-smi"
      ],
      "metadata": {
        "colab": {
          "base_uri": "https://localhost:8080/"
        },
        "id": "nwaBIp9cCbS0",
        "outputId": "86ac3613-83a9-41fe-c115-1476bd5c5ca6"
      },
      "execution_count": null,
      "outputs": [
        {
          "output_type": "stream",
          "name": "stdout",
          "text": [
            "Thu May 22 17:28:45 2025       \n",
            "+-----------------------------------------------------------------------------------------+\n",
            "| NVIDIA-SMI 550.54.15              Driver Version: 550.54.15      CUDA Version: 12.4     |\n",
            "|-----------------------------------------+------------------------+----------------------+\n",
            "| GPU  Name                 Persistence-M | Bus-Id          Disp.A | Volatile Uncorr. ECC |\n",
            "| Fan  Temp   Perf          Pwr:Usage/Cap |           Memory-Usage | GPU-Util  Compute M. |\n",
            "|                                         |                        |               MIG M. |\n",
            "|=========================================+========================+======================|\n",
            "|   0  Tesla T4                       Off |   00000000:00:04.0 Off |                    0 |\n",
            "| N/A   52C    P8             10W /   70W |       0MiB /  15360MiB |      0%      Default |\n",
            "|                                         |                        |                  N/A |\n",
            "+-----------------------------------------+------------------------+----------------------+\n",
            "                                                                                         \n",
            "+-----------------------------------------------------------------------------------------+\n",
            "| Processes:                                                                              |\n",
            "|  GPU   GI   CI        PID   Type   Process name                              GPU Memory |\n",
            "|        ID   ID                                                               Usage      |\n",
            "|=========================================================================================|\n",
            "|  No running processes found                                                             |\n",
            "+-----------------------------------------------------------------------------------------+\n"
          ]
        }
      ]
    },
    {
      "cell_type": "code",
      "source": [
        "import cupy as cp\n",
        "import numpy as np\n",
        "import scipy.fft\n",
        "import concurrent.futures\n",
        "\n",
        "def levy_stable_gpu(alpha: float, beta: float, size: int, mu: float = 0.0, sigma: float = 1.0) -> cp.ndarray:\n",
        "    if alpha == 2:\n",
        "        return mu + cp.random.standard_normal(size) * cp.sqrt(2.0) * sigma\n",
        "\n",
        "    radius = 1e-15\n",
        "    if cp.absolute(alpha - 1.0) < radius:\n",
        "        alpha = 1.0 + radius\n",
        "\n",
        "    r1 = cp.random.random(size)\n",
        "    r2 = cp.random.random(size)\n",
        "    pi = cp.pi\n",
        "\n",
        "    a = 1.0 - alpha\n",
        "    b = r1 - 0.5\n",
        "    c = a * b * pi\n",
        "    e = beta * cp.tan(cp.pi * alpha / 2.0)\n",
        "    f = (-(cp.cos(c) + e * cp.sin(c)) / (cp.log(r2) * cp.cos(b * pi))) ** (a / alpha)\n",
        "    g = cp.tan(cp.pi * b / 2.0)\n",
        "    h = cp.tan(c / 2.0)\n",
        "    i = 1.0 - g ** 2.0\n",
        "    j = f * (2.0 * (g - h) * (g * h + 1.0) - (h * i - 2.0 * g) * e * 2.0 * h)\n",
        "    k = j / (i * (h ** 2.0 + 1.0)) + e * (f - 1.0)\n",
        "\n",
        "    return mu + sigma * k\n",
        "\n",
        "\n",
        "def truncated_levy_stable_gpu(trunc: float, alpha: float, beta: float, size: int, mu: float = 0.0,\n",
        "                               sigma: float = 1.0) -> cp.ndarray:\n",
        "    z = levy_stable_gpu(alpha=alpha, beta=beta, mu=mu, sigma=sigma, size=size)\n",
        "\n",
        "    too_big = cp.where(cp.abs(z) > trunc)[0]\n",
        "\n",
        "    while too_big.size > 0:\n",
        "        z[too_big] = levy_stable_gpu(alpha=alpha, beta=beta, mu=mu, sigma=sigma, size=too_big.size)\n",
        "        too_big_remaining = cp.where(cp.abs(z[too_big]) > trunc)[0]\n",
        "        too_big = too_big[too_big_remaining]\n",
        "\n",
        "    return z\n",
        "\n",
        "\n",
        "def memory_efficient_truncated_levy_stable_gpu(trunc: float, alpha: float, beta: float, size: int,\n",
        "                                               mu: float = 0.0, sigma: float = 1.0, steps: int = 256) -> cp.ndarray:\n",
        "    step_length = size // steps\n",
        "    remaining = size % steps\n",
        "\n",
        "    out = cp.zeros(size)\n",
        "    for i in range(steps):\n",
        "        out[i * step_length:(i + 1) * step_length] = truncated_levy_stable_gpu(trunc=trunc, alpha=alpha, beta=beta,\n",
        "                                                                               size=step_length, mu=mu, sigma=sigma)\n",
        "\n",
        "    if remaining > 0:\n",
        "        out[-remaining:] = truncated_levy_stable_gpu(trunc=trunc, alpha=alpha, beta=beta,\n",
        "                                                     size=remaining, mu=mu, sigma=sigma)\n",
        "\n",
        "    return out\n",
        "\n",
        "\n",
        "def parallel_truncated_levy_stable_gpu(trunc: float, alpha: float, beta: float, size: int, mu: float = 0.0,\n",
        "                                       sigma: float = 1.0, steps: int = 256, workers: int = 4) -> cp.ndarray:\n",
        "    step_length = size // steps\n",
        "    remaining = size % steps\n",
        "\n",
        "    out = cp.zeros(size)\n",
        "\n",
        "    with concurrent.futures.ProcessPoolExecutor(max_workers=workers) as executor:\n",
        "        futures = []\n",
        "        for i in range(steps):\n",
        "            futures.append(executor.submit(truncated_levy_stable_gpu, trunc, alpha, beta, step_length, mu, sigma))\n",
        "\n",
        "        if remaining > 0:\n",
        "            futures.append(executor.submit(truncated_levy_stable_gpu, trunc, alpha, beta, remaining, mu, sigma))\n",
        "\n",
        "        idx = 0\n",
        "        for future in concurrent.futures.as_completed(futures):\n",
        "            result = future.result()\n",
        "            out[idx:idx + len(result)] = result\n",
        "            idx += len(result)\n",
        "\n",
        "    return out\n",
        "\n",
        "\n",
        "def flm_gpu(H: float, alpha: float, N: int, trunc: float, scale: float = 1, C: float = 1, m: int = 256, M: int = 6000,\n",
        "            steps: int = 256) -> cp.ndarray:\n",
        "    Na = m * (M + N)\n",
        "\n",
        "    if alpha < 0 or alpha > 2:\n",
        "        raise ValueError('Alpha must be greater than 0 and less than or equal to 2.')\n",
        "\n",
        "    mh = 1 / m\n",
        "    d = H - 1 / alpha\n",
        "    t0 = cp.linspace(mh, 1, m) ** d\n",
        "    t1 = cp.linspace(1 + mh, M, int((M - (1 + mh)) / mh) + 1)\n",
        "    t1 = t1 ** d - (t1 - 1) ** d\n",
        "    A = mh ** (1 / alpha) * cp.concatenate((t0, t1))\n",
        "    C = C * (cp.abs(A) ** alpha).sum() ** (-1 / alpha)\n",
        "    A *= C\n",
        "\n",
        "    A = scipy.fft.fft(A.get(), n=Na)  # `.get()` transfers to CPU for FFT, as scipy FFT operates on CPU arrays\n",
        "    Z = memory_efficient_truncated_levy_stable_gpu(trunc=trunc, alpha=alpha, beta=0, size=Na, mu=0, sigma=scale,\n",
        "                                                  steps=steps)\n",
        "    Z = scipy.fft.fft(Z.get(), Na)\n",
        "    w = cp.real(scipy.fft.ifft(Z * A, Na))\n",
        "\n",
        "    return w[0:N * m:m]\n"
      ],
      "metadata": {
        "id": "yzdaZvcUADx5"
      },
      "execution_count": null,
      "outputs": []
    },
    {
      "cell_type": "code",
      "source": [
        "# Example of usage\n",
        "H = 0.75\n",
        "alpha = 1.5\n",
        "beta = 0.5\n",
        "N = 10**5\n",
        "trunc = 10\n",
        "mu = 0.0\n",
        "sigma = 0.0028\n",
        "steps = 256\n",
        "workers = 4  # This variable is no longer used in the sequential GPU version\n",
        "\n",
        "import time\n",
        "\n",
        "n_array = [10**i for i in range(1, 6)]\n",
        "times_array = []\n",
        "\n",
        "for n in n_array:\n",
        "  t1 = time.time()\n",
        "  # Use the flm_gpu function\n",
        "  result_gpu = flm_gpu(H, alpha, n, trunc, sigma)\n",
        "  # print(result_gpu[:10])  # Check first 10 elements\n",
        "  t2 = time.time()\n",
        "  times_array.append(t2 - t1)\n",
        "  print(f\"For N = {n}, GPU time: {t2 - t1} seconds\")\n",
        "\n"
      ],
      "metadata": {
        "colab": {
          "base_uri": "https://localhost:8080/"
        },
        "id": "WiuxqRWPALLA",
        "outputId": "0772745f-a76a-4e25-8368-3d5c24c5d827"
      },
      "execution_count": null,
      "outputs": [
        {
          "output_type": "stream",
          "name": "stdout",
          "text": [
            "For N = 10, GPU time: 1.6926836967468262 seconds\n",
            "For N = 100, GPU time: 0.6618142127990723 seconds\n",
            "For N = 1000, GPU time: 0.541393518447876 seconds\n",
            "For N = 10000, GPU time: 0.9029295444488525 seconds\n",
            "For N = 100000, GPU time: 7.639259099960327 seconds\n"
          ]
        }
      ]
    },
    {
      "cell_type": "code",
      "source": [
        "import matplotlib.pyplot as plt\n",
        "plt.plot(n_array, times_array)\n",
        "plt.xlabel('N')\n",
        "plt.ylabel('Time (s)')\n",
        "plt.title('Time vs. N')\n",
        "plt.xscale('log')\n",
        "plt.yscale('log')\n",
        "plt.grid()\n",
        "plt.show()"
      ],
      "metadata": {
        "colab": {
          "base_uri": "https://localhost:8080/",
          "height": 476
        },
        "id": "B7jRrrtLD_oE",
        "outputId": "dbb18fd8-d4cd-4686-c76d-edd72ed60b1c"
      },
      "execution_count": null,
      "outputs": [
        {
          "output_type": "display_data",
          "data": {
            "text/plain": [
              "<Figure size 640x480 with 1 Axes>"
            ],
            "image/png": "[encoded data removed]"
          },
          "metadata": {}
        }
      ]
    },
    {
      "cell_type": "code",
      "source": [
        "\n"
      ],
      "metadata": {
        "id": "XfNxScuGGkeg"
      },
      "execution_count": null,
      "outputs": []
    }
  ]
}