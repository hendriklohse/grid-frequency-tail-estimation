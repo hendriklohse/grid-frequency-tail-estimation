{
 "cells": [
  {
   "cell_type": "code",
   "metadata": {
    "ExecuteTime": {
     "end_time": "2025-04-15T12:42:57.670551Z",
     "start_time": "2025-04-15T12:42:30.721919Z"
    }
   },
   "source": [
    "import os\n",
    "import pandas as pd\n",
    "\n",
    "# Containts 0.0 values: 2024-12,\n",
    "# Containts no 0.0 values: 2024-08,\n",
    "\n",
    "folder_path = os.path.join(os.getcwd(), \"data\", \"nordic\", \"2024-08\")\n",
    "csv_files = [file for file in os.listdir(folder_path) if file.endswith('csv')]\n",
    "\n",
    "df_frequency_merged = pd.DataFrame()\n",
    "\n",
    "for file in csv_files:\n",
    "\tfile_path = os.path.join(folder_path, file)\n",
    "\tdf_frequency = pd.read_csv(file_path, header=0, index_col=0, parse_dates=True)\n",
    "\tif len(df_frequency[df_frequency['Value'] < 40.0]) > 0:\n",
    "\t\tprint(f\"File {file} contains values below 40.0\")\n",
    "\t# df_frequency['Value'] = df_frequency['Value'].astype(float)\n",
    "\tdf_frequency_merged = pd.concat([df_frequency_merged, df_frequency])\n",
    "\n",
    "# Sort the merged DataFrame by index\n",
    "df_frequency_merged.sort_index(inplace=True)\n",
    "\n",
    "# Subsample to have second instead of millisecond, not use mean\n",
    "samples = [df_frequency_merged] + [df_frequency_merged.iloc[i::10] for i in range(10)]\n",
    "# df_frequency_merged = df_frequency_merged.iloc[::10]\n",
    "\n",
    "# Print the first few rows to verify the structure\n",
    "print(\"\\nStructure of merged_frequency_data:\")\n",
    "print(df_frequency_merged.head())\n",
    "print(\"\\nData types of merged_frequency_data:\")\n",
    "print(\"Time (index):\", df_frequency_merged.index.dtype, \"\\nValue:\", df_frequency_merged['Value'].dtype)\n",
    "\n"
   ],
   "outputs": [
    {
     "name": "stdout",
     "output_type": "stream",
     "text": [
      "\n",
      "Structure of merged_frequency_data:\n",
      "                            Value\n",
      "Time                             \n",
      "2024-08-01 00:00:00.000  50.00150\n",
      "2024-08-01 00:00:00.100  50.00175\n",
      "2024-08-01 00:00:00.200  50.00205\n",
      "2024-08-01 00:00:00.300  49.99971\n",
      "2024-08-01 00:00:00.400  49.99908\n",
      "\n",
      "Data types of merged_frequency_data:\n",
      "Time (index): datetime64[ns] \n",
      "Value: float64\n"
     ]
    }
   ],
   "execution_count": 1
  },
  {
   "metadata": {
    "ExecuteTime": {
     "end_time": "2025-04-15T12:42:57.855828Z",
     "start_time": "2025-04-15T12:42:57.823025Z"
    }
   },
   "cell_type": "code",
   "source": [
    "df_below_40 = df_frequency_merged[df_frequency_merged[\"Value\"] < 40.0]\n",
    "print(len(df_below_40))\n",
    "print(df_below_40.head())"
   ],
   "outputs": [
    {
     "name": "stdout",
     "output_type": "stream",
     "text": [
      "0\n",
      "Empty DataFrame\n",
      "Columns: [Value]\n",
      "Index: []\n"
     ]
    }
   ],
   "execution_count": 2
  },
  {
   "metadata": {
    "ExecuteTime": {
     "end_time": "2025-04-15T12:42:58.316775Z",
     "start_time": "2025-04-15T12:42:57.863392Z"
    }
   },
   "cell_type": "code",
   "source": [
    "def calculate_and_print_percentage(df, lower_bound, upper_bound, description):\n",
    "\tpercentage = (\n",
    "\t\t(df[\"Value\"] > lower_bound) & (df[\"Value\"] <= upper_bound)\n",
    "    ).mean() * 100\n",
    "\tprint(f\"% of entries {description}: {percentage}%\")\n",
    "\n",
    "frequency_ranges = [\n",
    "    (float(\"-inf\"), 49.9, \"below 49.9\"),\n",
    "    (50.1, float(\"inf\"), \"above 50.1\"),\n",
    "    (float(\"-inf\"), 49.8, \"below 49.8\"),\n",
    "    (50.2, float(\"inf\"), \"above 50.2\"),\n",
    "    (float(\"-inf\"), 49.7, \"below 49.7\"),\n",
    "    (50.3, float(\"inf\"), \"above 50.3\"),\n",
    "]\n",
    "\n",
    "for lower_bound, upper_bound, description in frequency_ranges:\n",
    "    calculate_and_print_percentage(\n",
    "        df_frequency_merged, lower_bound, upper_bound, description\n",
    "    )\n",
    "\n",
    "mean_frequency = df_frequency_merged[\"Value\"].mean()\n",
    "std_dev_frequency = df_frequency_merged[\"Value\"].std()\n",
    "print(f\"Number of entries: {len(df_frequency_merged)}\")\n",
    "print(f\"Mean frequency: {mean_frequency}\")\n",
    "print(f\"Standard Deviation of frequency: {std_dev_frequency}\")\n",
    "print(f\"Minimum frequency: {df_frequency_merged['Value'].min()}\")\n",
    "print(f\"Maximum frequency: {df_frequency_merged['Value'].max()}\")"
   ],
   "outputs": [
    {
     "name": "stdout",
     "output_type": "stream",
     "text": [
      "% of entries below 49.9: 1.0735021529239082%\n",
      "% of entries above 50.1: 1.3075934829397993%\n",
      "% of entries below 49.8: 0.0006237057405614928%\n",
      "% of entries above 50.2: 0.023895025916840902%\n",
      "% of entries below 49.7: 0.0%\n",
      "% of entries above 50.3: 0.00016059489128230053%\n",
      "Number of entries: 26775447\n",
      "Mean frequency: 50.00020666779609\n",
      "Standard Deviation of frequency: 0.04121646010583126\n",
      "Minimum frequency: 49.79185\n",
      "Maximum frequency: 50.34198\n"
     ]
    }
   ],
   "execution_count": 3
  },
  {
   "cell_type": "code",
   "metadata": {
    "ExecuteTime": {
     "end_time": "2025-04-15T12:42:59.028594Z",
     "start_time": "2025-04-15T12:42:58.328801Z"
    }
   },
   "source": [
    "import matplotlib.pyplot as plt\n",
    "\n",
    "# Plot histogram\n",
    "plt.figure(figsize=(10, 6))\n",
    "plt.hist(\n",
    "    df_frequency_merged[\"Value\"],\n",
    "    bins=1000,\n",
    "    color=\"blue\",\n",
    "    edgecolor=\"black\",\n",
    ")\n",
    "plt.title(\"Histogram of Frequency Data\")\n",
    "plt.xlabel(\"Frequency\")\n",
    "plt.ylabel(\"Frequency Count\")\n",
    "plt.grid(True)\n",
    "plt.show()"
   ],
   "outputs": [
    {
     "data": {
      "text/plain": [
       "<Figure size 1000x600 with 1 Axes>"
      ],
      "image/png": "[encoded data removed]"
     },
     "metadata": {},
     "output_type": "display_data"
    }
   ],
   "execution_count": 4
  },
  {
   "metadata": {
    "ExecuteTime": {
     "end_time": "2025-04-15T12:42:59.042985Z",
     "start_time": "2025-04-15T12:42:59.040463Z"
    }
   },
   "cell_type": "code",
   "source": [
    "# Make QQ-plot of df_frequency_merged[\"Value\"]\n",
    "#\n",
    "# import scipy.stats as stats\n",
    "# import matplotlib.pyplot as plt\n",
    "#\n",
    "# stats.probplot(df_frequency_merged[\"Value\"], dist=\"norm\", plot=plt)\n",
    "# plt.title(\"Q-Q Plot: Frequency Data vs Normal Distribution\")\n",
    "# plt.show()\n",
    "\n"
   ],
   "outputs": [],
   "execution_count": 5
  },
  {
   "metadata": {
    "ExecuteTime": {
     "end_time": "2025-04-15T16:09:54.435710Z",
     "start_time": "2025-04-15T12:42:59.070077Z"
    }
   },
   "cell_type": "code",
   "source": [
    "import numpy as np\n",
    "import scipy.optimize as opt\n",
    "import matplotlib.pyplot as plt\n",
    "import os\n",
    "from tqdm import tqdm  # Added tqdm for timing\n",
    "\n",
    "x_th_list = [round(50.10 + i * 0.01, 2) for i in range(10)]\n",
    "alpha_list = [round(0.05 + i * 0.05, 2) for i in range(40)]\n",
    "\n",
    "dict_results = dict()\n",
    "for subsample_idx, subsample in enumerate(samples):\n",
    "    sub_key = str(subsample_idx)\n",
    "    dict_results[sub_key] = {}\n",
    "\n",
    "    for alpha in alpha_list:\n",
    "        alpha_key = str(alpha)\n",
    "        dict_results[sub_key][alpha_key] = {}\n",
    "\n",
    "        for x_th in x_th_list:\n",
    "            x_th_key = str(x_th)\n",
    "            dict_results[sub_key][alpha_key][x_th_key] = {\n",
    "                'directory_save': os.path.join(\n",
    "                    os.getcwd(), 'results', 'nordic', 'right', '2D', 'unscaled'),\n",
    "                'm_values': None,\n",
    "                'beta_values': None,\n",
    "                'average_beta': None,\n",
    "                'likelihood_values': None,\n",
    "                'converged': None\n",
    "            }\n",
    "\n",
    "# Loop with tqdm to track timing\n",
    "for subsample_idx, df_frequency_merged_subsample in tqdm(enumerate(samples), total=len(samples), desc=\"Processing subsamples\"):\n",
    "    for x_th in x_th_list:\n",
    "        for alpha in alpha_list:\n",
    "            # Step 1: Select data points\n",
    "            selected_data = df_frequency_merged_subsample[df_frequency_merged_subsample[\"Value\"] >= x_th]\n",
    "\n",
    "            # Step 2: Calculate differences with 50.00\n",
    "            deltas = selected_data[\"Value\"] - 50.00\n",
    "\n",
    "            # Step 3: Order the deltas from large to small and index them\n",
    "            ordered_deltas = 50.00 + deltas.sort_values(ascending=False).reset_index(drop=True)\n",
    "\n",
    "            # Step 4-7:\n",
    "            m_values = 1000\n",
    "            beta_values = []\n",
    "            likelihood_values = []\n",
    "            converged_list = []\n",
    "\n",
    "            if len(ordered_deltas) < m_values:\n",
    "                print(f\"Not enough data points for x_th={x_th} in subsample {subsample_idx}. Skipping.\")\n",
    "                break\n",
    "\n",
    "            for k in range(10, m_values + 1):\n",
    "                def neg_log_likelihood(beta):\n",
    "                    if beta <= 0:\n",
    "                        return np.inf  # Invalid beta values\n",
    "                    term1 = k / beta\n",
    "                    term2 = alpha * k * ordered_deltas[k] ** beta * np.log(ordered_deltas[k])\n",
    "                    term3 = np.sum(np.log(ordered_deltas[:k]))\n",
    "                    term4 = alpha * np.sum(ordered_deltas[:k] ** beta * np.log(ordered_deltas[:k]))\n",
    "                    return term1 + term2 + term3 - term4\n",
    "\n",
    "                result = opt.minimize(neg_log_likelihood, x0=[2.0], bounds=[(1e-6, None)], method='L-BFGS-B')\n",
    "\n",
    "                if result.success:\n",
    "                    beta_k = result.x[0]\n",
    "                    log_likelihood_k = -result.fun  # Convert back to log-likelihood\n",
    "                    beta_values.append(beta_k)\n",
    "                    likelihood_values.append(log_likelihood_k)\n",
    "                    converged_list.append(True)\n",
    "                else:\n",
    "                    beta_k = result.x[0]\n",
    "                    log_likelihood_k = -result.fun\n",
    "                    beta_values.append(beta_k)\n",
    "                    likelihood_values.append(log_likelihood_k)\n",
    "                    converged_list.append(False)\n",
    "                    # print(f\"Failed to converge for k={k}\")\n",
    "\n",
    "            # Step 7: Make Hill plot\n",
    "            plt.plot(range(10, m_values + 1), beta_values, marker=\"o\", markersize=0.5)\n",
    "            plt.xlabel(\"k\")\n",
    "            plt.ylabel(r\"$\\beta_k$\")\n",
    "            plt.title(f\"MLE-based Tail Shape Estimation Plot; alpha={alpha}\")\n",
    "            os.makedirs(dict_results[str(subsample_idx)][str(alpha)][str(x_th)]['directory_save'], exist_ok=True)\n",
    "            plt.savefig(os.path.join(dict_results[str(subsample_idx)][str(alpha)][str(x_th)]['directory_save'], f\"hill_plot_{str(subsample_idx)}_{str(x_th)}_{str(alpha)}.png\"))\n",
    "            plt.close()\n",
    "\n",
    "            # Average beta (excluding first)\n",
    "            average_beta = np.mean(beta_values[20:])\n",
    "\n",
    "            # Save results\n",
    "            dict_results[str(subsample_idx)][str(alpha)][str(x_th)]['m_values'] = m_values\n",
    "            dict_results[str(subsample_idx)][str(alpha)][str(x_th)]['beta_values'] = beta_values\n",
    "            dict_results[str(subsample_idx)][str(alpha)][str(x_th)]['average_beta'] = average_beta\n",
    "            dict_results[str(subsample_idx)][str(alpha)][str(x_th)]['likelihood_values'] = likelihood_values\n",
    "            dict_results[str(subsample_idx)][str(alpha)][str(x_th)]['converged_list'] = converged_list\n",
    "\n"
   ],
   "outputs": [
    {
     "name": "stderr",
     "output_type": "stream",
     "text": [
      "Processing subsamples:   0%|          | 0/11 [00:00<?, ?it/s]/var/folders/yf/npsl41_n451c_8bd25kz9kwh0000gn/T/ipykernel_18687/1885901300.py:59: RuntimeWarning: overflow encountered in power\n",
      "  term2 = alpha * k * ordered_deltas[k] ** beta * np.log(ordered_deltas[k])\n",
      "/var/folders/yf/npsl41_n451c_8bd25kz9kwh0000gn/T/ipykernel_18687/1885901300.py:62: RuntimeWarning: invalid value encountered in subtract\n",
      "  return term1 + term2 + term3 - term4\n",
      "/var/folders/yf/npsl41_n451c_8bd25kz9kwh0000gn/T/ipykernel_18687/1885901300.py:59: RuntimeWarning: overflow encountered in multiply\n",
      "  term2 = alpha * k * ordered_deltas[k] ** beta * np.log(ordered_deltas[k])\n",
      "/Users/hendrik/Documents/TUe/Master/IAM/year 2/research topic/NEW/code/venv/lib/python3.11/site-packages/numpy/_core/_methods.py:52: RuntimeWarning: overflow encountered in reduce\n",
      "  return umr_sum(a, axis, dtype, out, keepdims, initial, where)\n",
      "/Users/hendrik/Documents/TUe/Master/IAM/year 2/research topic/NEW/code/venv/lib/python3.11/site-packages/scipy/optimize/_numdiff.py:596: RuntimeWarning: invalid value encountered in subtract\n",
      "  df = fun(x1) - f0\n",
      "Processing subsamples:  18%|█▊        | 2/11 [46:15<3:25:32, 1370.23s/it]"
     ]
    },
    {
     "name": "stdout",
     "output_type": "stream",
     "text": [
      "Not enough data points for x_th=50.19 in subsample 1. Skipping.\n"
     ]
    },
    {
     "name": "stderr",
     "output_type": "stream",
     "text": [
      "Processing subsamples:  27%|██▋       | 3/11 [1:04:59<2:47:44, 1258.11s/it]"
     ]
    },
    {
     "name": "stdout",
     "output_type": "stream",
     "text": [
      "Not enough data points for x_th=50.19 in subsample 2. Skipping.\n"
     ]
    },
    {
     "name": "stderr",
     "output_type": "stream",
     "text": [
      "Processing subsamples:  36%|███▋      | 4/11 [1:23:57<2:21:14, 1210.69s/it]"
     ]
    },
    {
     "name": "stdout",
     "output_type": "stream",
     "text": [
      "Not enough data points for x_th=50.19 in subsample 3. Skipping.\n"
     ]
    },
    {
     "name": "stderr",
     "output_type": "stream",
     "text": [
      "Processing subsamples:  45%|████▌     | 5/11 [1:42:24<1:57:18, 1173.07s/it]"
     ]
    },
    {
     "name": "stdout",
     "output_type": "stream",
     "text": [
      "Not enough data points for x_th=50.19 in subsample 4. Skipping.\n"
     ]
    },
    {
     "name": "stderr",
     "output_type": "stream",
     "text": [
      "Processing subsamples:  55%|█████▍    | 6/11 [2:00:53<1:35:56, 1151.31s/it]"
     ]
    },
    {
     "name": "stdout",
     "output_type": "stream",
     "text": [
      "Not enough data points for x_th=50.19 in subsample 5. Skipping.\n"
     ]
    },
    {
     "name": "stderr",
     "output_type": "stream",
     "text": [
      "Processing subsamples:  64%|██████▎   | 7/11 [2:18:20<1:14:29, 1117.38s/it]"
     ]
    },
    {
     "name": "stdout",
     "output_type": "stream",
     "text": [
      "Not enough data points for x_th=50.19 in subsample 6. Skipping.\n"
     ]
    },
    {
     "name": "stderr",
     "output_type": "stream",
     "text": [
      "Processing subsamples:  73%|███████▎  | 8/11 [2:35:32<54:30, 1090.25s/it]  "
     ]
    },
    {
     "name": "stdout",
     "output_type": "stream",
     "text": [
      "Not enough data points for x_th=50.19 in subsample 7. Skipping.\n"
     ]
    },
    {
     "name": "stderr",
     "output_type": "stream",
     "text": [
      "Processing subsamples:  82%|████████▏ | 9/11 [2:52:35<35:38, 1069.16s/it]"
     ]
    },
    {
     "name": "stdout",
     "output_type": "stream",
     "text": [
      "Not enough data points for x_th=50.19 in subsample 8. Skipping.\n"
     ]
    },
    {
     "name": "stderr",
     "output_type": "stream",
     "text": [
      "Processing subsamples:  91%|█████████ | 10/11 [3:09:44<17:36, 1056.62s/it]"
     ]
    },
    {
     "name": "stdout",
     "output_type": "stream",
     "text": [
      "Not enough data points for x_th=50.19 in subsample 9. Skipping.\n"
     ]
    },
    {
     "name": "stderr",
     "output_type": "stream",
     "text": [
      "Processing subsamples: 100%|██████████| 11/11 [3:26:55<00:00, 1128.66s/it]"
     ]
    },
    {
     "name": "stdout",
     "output_type": "stream",
     "text": [
      "Not enough data points for x_th=50.19 in subsample 10. Skipping.\n"
     ]
    },
    {
     "name": "stderr",
     "output_type": "stream",
     "text": [
      "\n"
     ]
    }
   ],
   "execution_count": 6
  },
  {
   "metadata": {
    "ExecuteTime": {
     "end_time": "2025-04-15T16:10:00.230364Z",
     "start_time": "2025-04-15T16:09:54.495774Z"
    }
   },
   "cell_type": "code",
   "source": [
    "# save rsults to file\n",
    "\n",
    "import pickle\n",
    "with open(os.path.join(os.getcwd(), 'results', 'nordic', 'right', '2D', 'unscaled', 'right_tail_2D_dict_results.pkl'), 'wb') as f:\n",
    "    pickle.dump(dict_results, f)"
   ],
   "outputs": [],
   "execution_count": 7
  },
  {
   "metadata": {},
   "cell_type": "markdown",
   "source": "# Read dictionaries"
  },
  {
   "metadata": {
    "ExecuteTime": {
     "end_time": "2025-04-15T16:10:01.632688Z",
     "start_time": "2025-04-15T16:10:00.253421Z"
    }
   },
   "cell_type": "code",
   "source": [
    "# read 2D results\n",
    "import pickle\n",
    "import pandas as pd\n",
    "import numpy as np\n",
    "import os\n",
    "import seaborn as sns\n",
    "\n",
    "with open(os.path.join(os.getcwd(), 'results', 'nordic', 'right', '2D', 'unscaled', 'right_tail_2D_dict_results.pkl'), 'rb') as f:\n",
    "    dict_results_2D = pickle.load(f)\n",
    "\n",
    "for s_id, sample in enumerate(samples[:1]):\n",
    "    dict_s_id = dict_results_2D[str(s_id)]\n",
    "    df_heatmap_beta = pd.DataFrame(columns=x_th_list, index=alpha_list)\n",
    "    df_heatmap_likelihood = pd.DataFrame(columns=x_th_list, index=alpha_list)\n",
    "\n",
    "    for alpha in alpha_list:\n",
    "        for x_th in x_th_list:\n",
    "            beta_value = dict_s_id[str(alpha)][str(x_th)]['average_beta']\n",
    "            likelihood_values = dict_s_id[str(alpha)][str(x_th)]['likelihood_values']\n",
    "            if likelihood_values is not None:\n",
    "                likelihood_value = np.min(likelihood_values)\n",
    "\n",
    "            if beta_value is not None:\n",
    "                df_heatmap_beta.at[alpha, x_th] = beta_value\n",
    "            else:\n",
    "                df_heatmap_beta.at[alpha, x_th] = np.nan\n",
    "\n",
    "            if likelihood_value is not None:\n",
    "                df_heatmap_likelihood.at[alpha, x_th] = likelihood_value\n",
    "            else:\n",
    "                df_heatmap_likelihood.at[alpha, x_th] = np.nan\n",
    "\n",
    "    ######################################## BETA ########################################\n",
    "    # Set figure size\n",
    "    plt.figure(figsize=(12, 8))\n",
    "\n",
    "    # Convert column headers to string for consistency if needed\n",
    "    df_heatmap_beta.columns = df_heatmap_beta.columns.astype(str)\n",
    "\n",
    "    # Create the heatmap\n",
    "    sns.heatmap(df_heatmap_beta.astype(float), cmap='coolwarm', cbar_kws={'label': 'Average Beta'}, linewidths=0.5, linecolor='gray', annot=True, fmt='.6f')\n",
    "\n",
    "    # Set axis labels and title\n",
    "    plt.xlabel('x Threshold')\n",
    "    plt.ylabel('alpha')\n",
    "    plt.title(f'Average Beta Values Across beta and x Thresholds (sample: {s_id})')\n",
    "\n",
    "    # Optional: Rotate x-axis labels for better visibility\n",
    "    plt.xticks(rotation=45)\n",
    "\n",
    "    # Show the heatmap\n",
    "    plt.tight_layout()\n",
    "    plt.savefig(os.path.join('results', 'nordic', 'right', '2D', 'unscaled', f'heatmap_beta_{s_id}.png'))\n",
    "    plt.close()\n",
    "\n",
    "    ######################################## LIKELIHOOD ########################################\n",
    "\n",
    "    # Set figure size\n",
    "    plt.figure(figsize=(12, 8))\n",
    "\n",
    "    # Convert column headers to string for consistency if needed\n",
    "    df_heatmap_likelihood.columns = df_heatmap_likelihood.columns.astype(str)\n",
    "\n",
    "    # Create the heatmap\n",
    "    sns.heatmap(df_heatmap_likelihood.astype(float), cmap='coolwarm', cbar_kws={'label': 'Log likelihood'}, linewidths=0.5, linecolor='gray', annot=True, fmt='.3f')\n",
    "\n",
    "    # Set axis labels and title\n",
    "    plt.xlabel('x Threshold')\n",
    "    plt.ylabel('alpha')\n",
    "    plt.title(f'Min log likelihood values Across beta and x Thresholds (sample: {s_id})')\n",
    "\n",
    "    # Optional: Rotate x-axis labels for better visibility\n",
    "    plt.xticks(rotation=45)\n",
    "\n",
    "    # Show the heatmap\n",
    "    plt.tight_layout()\n",
    "    plt.savefig(os.path.join('results', 'nordic', 'right', '2D', 'unscaled', f'heatmap_likelihood_{s_id}.png'))\n",
    "    plt.close()\n",
    "\n",
    "\n"
   ],
   "outputs": [
    {
     "name": "stderr",
     "output_type": "stream",
     "text": [
      "/Users/hendrik/Documents/TUe/Master/IAM/year 2/research topic/NEW/code/venv/lib/python3.11/site-packages/seaborn/matrix.py:202: RuntimeWarning: All-NaN slice encountered\n",
      "  vmin = np.nanmin(calc_data)\n",
      "/Users/hendrik/Documents/TUe/Master/IAM/year 2/research topic/NEW/code/venv/lib/python3.11/site-packages/seaborn/matrix.py:207: RuntimeWarning: All-NaN slice encountered\n",
      "  vmax = np.nanmax(calc_data)\n"
     ]
    }
   ],
   "execution_count": 8
  },
  {
   "metadata": {},
   "cell_type": "markdown",
   "source": "# Plot empirical distibution"
  },
  {
   "metadata": {
    "ExecuteTime": {
     "end_time": "2025-04-15T16:10:01.660288Z",
     "start_time": "2025-04-15T16:10:01.657602Z"
    }
   },
   "cell_type": "code",
   "source": [
    "# import numpy as np\n",
    "# import matplotlib.pyplot as plt\n",
    "#\n",
    "# for s_id, df_frequency_merged_subsample in enumerate(samples[:1]):\n",
    "#     for x_th in x_th_list[:1]:\n",
    "#\n",
    "#\n",
    "#         tail_data = df_frequency_merged_subsample[df_frequency_merged_subsample[\"Value\"] >= x_th]\n",
    "#\n",
    "#         deltas = tail_data[\"Value\"] - 50.00\n",
    "#         std_deltas = np.std(deltas)\n",
    "#         scaled_deltas = deltas / std_deltas\n",
    "#\n",
    "#         x = np.sort(scaled_deltas.values)\n",
    "#         n = len(x)\n",
    "#         empirical_sf = 1.0 - (np.arange(1, n + 1) / (n + 1))\n",
    "#\n",
    "#         ordered_deltas = tail_data[\"Value\"].sort_values().reset_index(drop=True)\n",
    "#\n",
    "#         beta_hat = dict_results_1D[str(s_id)][str(x_th)]['average_beta']\n",
    "#         alpha_hat = 1\n",
    "#         fitted_sf = np.exp(-alpha_hat * x ** beta_hat)\n",
    "#\n",
    "#         scaling_factor = empirical_sf[n // 2] / fitted_sf[n // 2]\n",
    "#         fitted_sf_scaled = fitted_sf * scaling_factor\n",
    "#\n",
    "#         # Plot on the scaled x-axis\n",
    "#         plt.figure(figsize=(8, 5))\n",
    "#         plt.plot(x, empirical_sf, label='Empirical SF', marker='o', markersize=2, linestyle='none')\n",
    "#         plt.plot(x, fitted_sf, label=rf'Fitted SF, $\\beta$={round(beta_hat,2)}', linestyle='--')\n",
    "#         plt.plot(x, fitted_sf_scaled, label='Fitted SF (scaled)', linestyle='--')\n",
    "#         plt.yscale('log')\n",
    "#         plt.xlabel(\"x\")\n",
    "#         plt.ylabel(\"Survival Function (log scale)\")\n",
    "#         plt.title(f\"Empirical vs Fitted SF — Subsample {subsample_idx}, x_th = {x_th}\")\n",
    "#         plt.legend()\n",
    "#         plt.grid(True, which='both', linestyle='--', linewidth=0.5)\n",
    "#         plt.tight_layout()\n",
    "#         plt.savefig(dict_results_1D[str(s_id)][str(x_th)]['directory_save'] + '/empirical_vs_fitted_sf.png')\n",
    "#         plt.show()\n"
   ],
   "outputs": [],
   "execution_count": 9
  },
  {
   "metadata": {
    "ExecuteTime": {
     "end_time": "2025-04-15T16:10:01.690624Z",
     "start_time": "2025-04-15T16:10:01.688691Z"
    }
   },
   "cell_type": "code",
   "source": "",
   "outputs": [],
   "execution_count": null
  }
 ],
 "metadata": {
  "kernelspec": {
   "display_name": "Python 3 (ipykernel)",
   "language": "python",
   "name": "python3"
  },
  "language_info": {
   "codemirror_mode": {
    "name": "ipython",
    "version": 3
   },
   "file_extension": ".py",
   "mimetype": "text/x-python",
   "name": "python",
   "nbconvert_exporter": "python",
   "pygments_lexer": "ipython3",
   "version": "3.11.5"
  }
 },
 "nbformat": 4,
 "nbformat_minor": 4
}
